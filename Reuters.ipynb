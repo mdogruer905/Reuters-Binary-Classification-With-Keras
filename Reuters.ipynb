{
  "nbformat": 4,
  "nbformat_minor": 0,
  "metadata": {
    "colab": {
      "name": "Reuters.ipynb",
      "provenance": [],
      "collapsed_sections": [],
      "authorship_tag": "ABX9TyNr5fmqG33GH+1H5z08tdkF",
      "include_colab_link": true
    },
    "kernelspec": {
      "name": "python3",
      "display_name": "Python 3"
    },
    "language_info": {
      "name": "python"
    },
    "accelerator": "GPU"
  },
  "cells": [
    {
      "cell_type": "markdown",
      "metadata": {
        "id": "view-in-github",
        "colab_type": "text"
      },
      "source": [
        "<a href=\"https://colab.research.google.com/github/mdogruer905/Reuters-Binary-Classification-With-Keras/blob/main/Reuters.ipynb\" target=\"_parent\"><img src=\"https://colab.research.google.com/assets/colab-badge.svg\" alt=\"Open In Colab\"/></a>"
      ]
    },
    {
      "cell_type": "markdown",
      "metadata": {
        "id": "tRLbykkYOigr"
      },
      "source": [
        "# Reuters Data\n",
        "Reuters'in 1986 yılından beri yayınlandığı kısa haberler ve ait oldukları konuları barındıran veri setidir. Metin sınıflandırma da sıkça kullanılan bir veri setidir. Veri setinde 46 farklı konu bulunur"
      ]
    },
    {
      "cell_type": "code",
      "metadata": {
        "colab": {
          "base_uri": "https://localhost:8080/"
        },
        "id": "Jo1mB1N39New",
        "outputId": "0a2c7efe-d6e3-4a0d-fe66-8146ce45cdf9"
      },
      "source": [
        "from google.colab import drive\n",
        "drive.mount('/gdrive')\n",
        "% cd/gdrive"
      ],
      "execution_count": 1,
      "outputs": [
        {
          "output_type": "stream",
          "name": "stdout",
          "text": [
            "Mounted at /gdrive\n",
            "/gdrive\n"
          ]
        }
      ]
    },
    {
      "cell_type": "code",
      "metadata": {
        "colab": {
          "base_uri": "https://localhost:8080/"
        },
        "id": "jmoeGW5B9bYS",
        "outputId": "ffd10750-f473-436a-c367-c74b0b3fee86"
      },
      "source": [
        "#Device info\n",
        "from tensorflow.python.client import device_lib\n",
        "device_lib.list_local_devices()"
      ],
      "execution_count": 2,
      "outputs": [
        {
          "output_type": "execute_result",
          "data": {
            "text/plain": [
              "[name: \"/device:CPU:0\"\n",
              " device_type: \"CPU\"\n",
              " memory_limit: 268435456\n",
              " locality {\n",
              " }\n",
              " incarnation: 10829150055160915264, name: \"/device:GPU:0\"\n",
              " device_type: \"GPU\"\n",
              " memory_limit: 11345264640\n",
              " locality {\n",
              "   bus_id: 1\n",
              "   links {\n",
              "   }\n",
              " }\n",
              " incarnation: 15866611667657733579\n",
              " physical_device_desc: \"device: 0, name: Tesla K80, pci bus id: 0000:00:04.0, compute capability: 3.7\"]"
            ]
          },
          "metadata": {},
          "execution_count": 2
        }
      ]
    },
    {
      "cell_type": "code",
      "metadata": {
        "colab": {
          "base_uri": "https://localhost:8080/"
        },
        "id": "FsCyq4_c9nRJ",
        "outputId": "c9b6a059-e710-4298-e0ac-9cfb0a475404"
      },
      "source": [
        "from keras.datasets import reuters\n",
        "(train_data, train_labels), (test_data, test_labels) = reuters.load_data(num_words=10000)\n"
      ],
      "execution_count": 3,
      "outputs": [
        {
          "output_type": "stream",
          "name": "stdout",
          "text": [
            "Downloading data from https://storage.googleapis.com/tensorflow/tf-keras-datasets/reuters.npz\n",
            "2113536/2110848 [==============================] - 0s 0us/step\n",
            "2121728/2110848 [==============================] - 0s 0us/step\n"
          ]
        }
      ]
    },
    {
      "cell_type": "code",
      "metadata": {
        "colab": {
          "base_uri": "https://localhost:8080/"
        },
        "id": "2eUHKTUX99a2",
        "outputId": "557fc4f4-16d7-412e-c936-91df50748ef5"
      },
      "source": [
        "print(\"Eğitim :\",len(train_data))"
      ],
      "execution_count": 4,
      "outputs": [
        {
          "output_type": "stream",
          "name": "stdout",
          "text": [
            "Eğitim : 8982\n"
          ]
        }
      ]
    },
    {
      "cell_type": "code",
      "metadata": {
        "colab": {
          "base_uri": "https://localhost:8080/"
        },
        "id": "ecd9BZou-ICJ",
        "outputId": "d89f3676-6e3d-4cbc-9067-dce0b6870ad0"
      },
      "source": [
        "print(\"Test :\",len(test_data))"
      ],
      "execution_count": 5,
      "outputs": [
        {
          "output_type": "stream",
          "name": "stdout",
          "text": [
            "Test : 2246\n"
          ]
        }
      ]
    },
    {
      "cell_type": "markdown",
      "metadata": {
        "id": "3qwhfMKz-ecM"
      },
      "source": [
        "# Data Preparation (Verileri Hazırlama İşlemi)"
      ]
    },
    {
      "cell_type": "code",
      "metadata": {
        "id": "69GL3Va9-ct0"
      },
      "source": [
        "import numpy as np\n",
        "def vectorize_sequences(sequences, dimension=10000):\n",
        "    ##(len(sequences), dimension) şeklinde tüm elemanları sıfır olan matris oluşturur\n",
        "    results = np.zeros((len(sequences), dimension))\n",
        "    for i, sequence in enumerate(sequences):\n",
        "       results[i, sequence] = 1. #results[i]'nin istenen indekselerini 1 yapar\n",
        "    return results\n",
        "\n",
        "x_train = vectorize_sequences(train_data) # Eğitim vektör verisi\n",
        "x_test = vectorize_sequences(test_data) # Test vektör verisi\n"
      ],
      "execution_count": 6,
      "outputs": []
    },
    {
      "cell_type": "markdown",
      "metadata": {
        "id": "TkywuigU-2tb"
      },
      "source": [
        "# One Hot Encoding "
      ]
    },
    {
      "cell_type": "code",
      "metadata": {
        "id": "SWDxZb9S-uKc"
      },
      "source": [
        "from keras.utils.np_utils import  to_categorical\n",
        "\n",
        "one_hot_train_labels = to_categorical(train_labels)\n",
        "one_hot_test_labels = to_categorical(test_labels)"
      ],
      "execution_count": 7,
      "outputs": []
    },
    {
      "cell_type": "markdown",
      "metadata": {
        "id": "LSvFZmia_cF5"
      },
      "source": [
        "# Building to Network\n",
        "\n",
        "#### Reuters Veri Setinde: 46 Farklı konu var. Bu konuların karışmaması ve darboğaz olarak bir sonra ki işlemin de öğrenmesini artırmak için 46'dan fazla hidden layers seçmemiz gerekir"
      ]
    },
    {
      "cell_type": "code",
      "metadata": {
        "id": "UZhIVGeM_RIM"
      },
      "source": [
        "from keras import layers\n",
        "from keras import models\n",
        "\n",
        "model = models.Sequential()\n",
        "model.add(layers.Dense(64,activation='relu',input_shape=(10000,)))\n",
        "model.add(layers.Dense(64,activation='relu'))\n",
        "model.add(layers.Dense(46,activation='softmax')) # Son katman "
      ],
      "execution_count": 8,
      "outputs": []
    },
    {
      "cell_type": "markdown",
      "metadata": {
        "id": "IEtjtVzSBP99"
      },
      "source": [
        "# Categorical Crossentropy: \n",
        "> **İki olasılık dağılımı arasında ki mesafeyi ölçer**"
      ]
    },
    {
      "cell_type": "code",
      "metadata": {
        "id": "cNixtKOZA9xw"
      },
      "source": [
        "model.compile(optimizer='rmsprop',\n",
        "              loss='categorical_crossentropy',\n",
        "              metrics=['accuracy'])"
      ],
      "execution_count": 9,
      "outputs": []
    },
    {
      "cell_type": "markdown",
      "metadata": {
        "id": "shGvE2rmBs1w"
      },
      "source": [
        "# Yaklaşım Doğrulama İşlemi\n"
      ]
    },
    {
      "cell_type": "code",
      "metadata": {
        "id": "zctffOxiBqCY"
      },
      "source": [
        "x_val = x_train[:1000]\n",
        "partial_x_train = x_train[1000:]\n",
        "\n",
        "\n",
        "y_val = one_hot_train_labels[:1000]\n",
        "partial_y_train = one_hot_train_labels[1000:]"
      ],
      "execution_count": 10,
      "outputs": []
    },
    {
      "cell_type": "code",
      "metadata": {
        "colab": {
          "base_uri": "https://localhost:8080/"
        },
        "id": "7ix5m23ZChMQ",
        "outputId": "77e14965-ccde-435e-808e-1abbaab79e06"
      },
      "source": [
        "#Model Compile\n",
        "\n",
        "history = model.fit(partial_x_train,\n",
        "                    partial_y_train,\n",
        "                    epochs=20,\n",
        "                    batch_size = 512,\n",
        "                    validation_data=(x_val,y_val))"
      ],
      "execution_count": 11,
      "outputs": [
        {
          "output_type": "stream",
          "name": "stdout",
          "text": [
            "Epoch 1/20\n",
            "16/16 [==============================] - 4s 33ms/step - loss: 2.5581 - accuracy: 0.5360 - val_loss: 1.6725 - val_accuracy: 0.6610\n",
            "Epoch 2/20\n",
            "16/16 [==============================] - 0s 17ms/step - loss: 1.3932 - accuracy: 0.7072 - val_loss: 1.2844 - val_accuracy: 0.7050\n",
            "Epoch 3/20\n",
            "16/16 [==============================] - 0s 16ms/step - loss: 1.0393 - accuracy: 0.7724 - val_loss: 1.1228 - val_accuracy: 0.7510\n",
            "Epoch 4/20\n",
            "16/16 [==============================] - 0s 17ms/step - loss: 0.8224 - accuracy: 0.8246 - val_loss: 1.0334 - val_accuracy: 0.7880\n",
            "Epoch 5/20\n",
            "16/16 [==============================] - 0s 17ms/step - loss: 0.6558 - accuracy: 0.8621 - val_loss: 0.9493 - val_accuracy: 0.8160\n",
            "Epoch 6/20\n",
            "16/16 [==============================] - 0s 17ms/step - loss: 0.5255 - accuracy: 0.8906 - val_loss: 0.9225 - val_accuracy: 0.8140\n",
            "Epoch 7/20\n",
            "16/16 [==============================] - 0s 16ms/step - loss: 0.4218 - accuracy: 0.9131 - val_loss: 0.9018 - val_accuracy: 0.8150\n",
            "Epoch 8/20\n",
            "16/16 [==============================] - 0s 16ms/step - loss: 0.3440 - accuracy: 0.9273 - val_loss: 0.9139 - val_accuracy: 0.8150\n",
            "Epoch 9/20\n",
            "16/16 [==============================] - 0s 16ms/step - loss: 0.2827 - accuracy: 0.9397 - val_loss: 0.9029 - val_accuracy: 0.8190\n",
            "Epoch 10/20\n",
            "16/16 [==============================] - 0s 16ms/step - loss: 0.2374 - accuracy: 0.9448 - val_loss: 0.9236 - val_accuracy: 0.8140\n",
            "Epoch 11/20\n",
            "16/16 [==============================] - 0s 17ms/step - loss: 0.2047 - accuracy: 0.9484 - val_loss: 0.9451 - val_accuracy: 0.8170\n",
            "Epoch 12/20\n",
            "16/16 [==============================] - 0s 17ms/step - loss: 0.1843 - accuracy: 0.9513 - val_loss: 0.9397 - val_accuracy: 0.8100\n",
            "Epoch 13/20\n",
            "16/16 [==============================] - 0s 16ms/step - loss: 0.1618 - accuracy: 0.9541 - val_loss: 0.9775 - val_accuracy: 0.8120\n",
            "Epoch 14/20\n",
            "16/16 [==============================] - 0s 17ms/step - loss: 0.1492 - accuracy: 0.9562 - val_loss: 1.0011 - val_accuracy: 0.8070\n",
            "Epoch 15/20\n",
            "16/16 [==============================] - 0s 17ms/step - loss: 0.1366 - accuracy: 0.9559 - val_loss: 0.9989 - val_accuracy: 0.8140\n",
            "Epoch 16/20\n",
            "16/16 [==============================] - 0s 18ms/step - loss: 0.1342 - accuracy: 0.9559 - val_loss: 1.0075 - val_accuracy: 0.8100\n",
            "Epoch 17/20\n",
            "16/16 [==============================] - 0s 16ms/step - loss: 0.1286 - accuracy: 0.9573 - val_loss: 1.0192 - val_accuracy: 0.8100\n",
            "Epoch 18/20\n",
            "16/16 [==============================] - 0s 16ms/step - loss: 0.1164 - accuracy: 0.9583 - val_loss: 1.0843 - val_accuracy: 0.8000\n",
            "Epoch 19/20\n",
            "16/16 [==============================] - 0s 20ms/step - loss: 0.1167 - accuracy: 0.9562 - val_loss: 1.0891 - val_accuracy: 0.8070\n",
            "Epoch 20/20\n",
            "16/16 [==============================] - 0s 16ms/step - loss: 0.1109 - accuracy: 0.9582 - val_loss: 1.1027 - val_accuracy: 0.8040\n"
          ]
        }
      ]
    },
    {
      "cell_type": "markdown",
      "metadata": {
        "id": "7Ae8SdBjDXKb"
      },
      "source": [
        "# Eğitim ve Doğrulama Kaybı"
      ]
    },
    {
      "cell_type": "code",
      "metadata": {
        "colab": {
          "base_uri": "https://localhost:8080/"
        },
        "id": "aR1KtnNYDfqa",
        "outputId": "288a68cd-7d2b-4209-c523-b56c8c04016b"
      },
      "source": [
        "#Keyword list\n",
        "history_dict = history.history\n",
        "history_dict.keys()"
      ],
      "execution_count": 12,
      "outputs": [
        {
          "output_type": "execute_result",
          "data": {
            "text/plain": [
              "dict_keys(['loss', 'accuracy', 'val_loss', 'val_accuracy'])"
            ]
          },
          "metadata": {},
          "execution_count": 12
        }
      ]
    },
    {
      "cell_type": "code",
      "metadata": {
        "colab": {
          "base_uri": "https://localhost:8080/",
          "height": 294
        },
        "id": "R-BCDh2TC4fx",
        "outputId": "50f3208f-30ce-4a9f-c7c9-eeb9461ac911"
      },
      "source": [
        "import matplotlib.pyplot as plt\n",
        "\n",
        "loss = history.history['loss']\n",
        "val_loss = history.history['val_loss']\n",
        "\n",
        "epochs = range(1,len(loss)+1)\n",
        "\n",
        "plt.plot(epochs,loss,'bo',label='Eğitim Kaybı')\n",
        "plt.plot(epochs,val_loss, 'b',label = 'Doğrulama Kaybı')\n",
        "plt.title('Eğitim ve Doğrulama Kaybı')\n",
        "plt.xlabel('Epochs')\n",
        "plt.ylabel('Loss')\n",
        "plt.show()"
      ],
      "execution_count": 13,
      "outputs": [
        {
          "output_type": "display_data",
          "data": {
            "image/png": "[encoded data removed]",
            "text/plain": [
              "<Figure size 432x288 with 1 Axes>"
            ]
          },
          "metadata": {
            "needs_background": "light"
          }
        }
      ]
    },
    {
      "cell_type": "markdown",
      "metadata": {
        "id": "hdRcO2OtEvHY"
      },
      "source": [
        "# Eğitim ve Doğrulama Başarımı\n",
        "\n",
        "1.  accuracy =     Doğruluk\n",
        "2.  val_accuracy = Başrımı\n"
      ]
    },
    {
      "cell_type": "code",
      "metadata": {
        "colab": {
          "base_uri": "https://localhost:8080/",
          "height": 278
        },
        "id": "SwvIy9BlEuby",
        "outputId": "de90b11e-6f3e-42c7-898c-87f4ed6124e7"
      },
      "source": [
        "acc = history.history['accuracy']\n",
        "val_acc = history.history['val_accuracy']\n",
        "\n",
        "plt.plot(epochs, acc,'bo',label='Eğitim Başarımı')\n",
        "plt.plot(epochs,val_acc,'b',label = 'Doğrulama Başarımı')\n",
        "plt.xlabel('Epochs')\n",
        "plt.ylabel('Loss')\n",
        "plt.show()"
      ],
      "execution_count": 14,
      "outputs": [
        {
          "output_type": "display_data",
          "data": {
            "image/png": "[encoded data removed]",
            "text/plain": [
              "<Figure size 432x288 with 1 Axes>"
            ]
          },
          "metadata": {
            "needs_background": "light"
          }
        }
      ]
    },
    {
      "cell_type": "markdown",
      "metadata": {
        "id": "PpJEgPxYGPti"
      },
      "source": [
        "# Modeli En Baştan Eğitmek"
      ]
    },
    {
      "cell_type": "code",
      "metadata": {
        "colab": {
          "base_uri": "https://localhost:8080/"
        },
        "id": "FPkheCHMETT0",
        "outputId": "3b476531-c2e2-45a0-a5ac-cd5bc977d80c"
      },
      "source": [
        "model = models.Sequential()\n",
        "model.add(layers.Dense(64,activation='relu',input_shape=(10000,)))\n",
        "model.add(layers.Dense(64,activation='relu'))\n",
        "model.add(layers.Dense(46,activation='softmax'))\n",
        "\n",
        "model.compile(optimizer='rmsprop',loss ='categorical_crossentropy',\n",
        "              metrics=['accuracy'])\n",
        "\n",
        "model.fit(partial_x_train,\n",
        "          partial_y_train,\n",
        "          epochs=9,\n",
        "          batch_size=512,\n",
        "          validation_data=(x_val,y_val)),\n",
        "\n",
        "results = model.evaluate(x_test,one_hot_test_labels)\n",
        "print(\"Kayıp Fonksiyonu:\",results[0],\"Doğruluk\",results[1])"
      ],
      "execution_count": 15,
      "outputs": [
        {
          "output_type": "stream",
          "name": "stdout",
          "text": [
            "Epoch 1/9\n",
            "16/16 [==============================] - 1s 30ms/step - loss: 2.5484 - accuracy: 0.4781 - val_loss: 1.7218 - val_accuracy: 0.5980\n",
            "Epoch 2/9\n",
            "16/16 [==============================] - 0s 17ms/step - loss: 1.4049 - accuracy: 0.7065 - val_loss: 1.2906 - val_accuracy: 0.7250\n",
            "Epoch 3/9\n",
            "16/16 [==============================] - 0s 16ms/step - loss: 1.0528 - accuracy: 0.7833 - val_loss: 1.1451 - val_accuracy: 0.7500\n",
            "Epoch 4/9\n",
            "16/16 [==============================] - 0s 17ms/step - loss: 0.8372 - accuracy: 0.8236 - val_loss: 1.0368 - val_accuracy: 0.7940\n",
            "Epoch 5/9\n",
            "16/16 [==============================] - 0s 16ms/step - loss: 0.6714 - accuracy: 0.8569 - val_loss: 0.9805 - val_accuracy: 0.7920\n",
            "Epoch 6/9\n",
            "16/16 [==============================] - 0s 16ms/step - loss: 0.5351 - accuracy: 0.8866 - val_loss: 0.9194 - val_accuracy: 0.8070\n",
            "Epoch 7/9\n",
            "16/16 [==============================] - 0s 16ms/step - loss: 0.4270 - accuracy: 0.9099 - val_loss: 0.9288 - val_accuracy: 0.7980\n",
            "Epoch 8/9\n",
            "16/16 [==============================] - 0s 18ms/step - loss: 0.3471 - accuracy: 0.9260 - val_loss: 0.8990 - val_accuracy: 0.8120\n",
            "Epoch 9/9\n",
            "16/16 [==============================] - 0s 16ms/step - loss: 0.2893 - accuracy: 0.9359 - val_loss: 0.8900 - val_accuracy: 0.8270\n",
            "71/71 [==============================] - 0s 3ms/step - loss: 1.0022 - accuracy: 0.7907\n",
            "Kayıp Fonksiyonu: 1.0022279024124146 Doğruluk 0.790739119052887\n"
          ]
        }
      ]
    },
    {
      "cell_type": "code",
      "metadata": {
        "id": "iaTcPIJpHo0N"
      },
      "source": [
        ""
      ],
      "execution_count": null,
      "outputs": []
    }
  ]
}